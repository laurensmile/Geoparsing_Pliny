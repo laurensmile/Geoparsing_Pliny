{
 "cells": [
  {
   "cell_type": "markdown",
   "id": "9acdf98b",
   "metadata": {},
   "source": [
    "# Convert XML Latin lemmatized NH file to CSV"
   ]
  },
  {
   "cell_type": "markdown",
   "id": "29ab9fcc",
   "metadata": {},
   "source": [
    "The XML file contains the lemmatized version (urn_cts_latinLit_phi0978.phi001.perseus-lat2.xml) of the Natural History from Thibault Clérice's project (https://zenodo.org/records/4731513).\n",
    "\n",
    "In the file, the text is separated in passages, their type being provided as the < ab > level. The NH contains < book > and < chapter > type.\n",
    "\n",
    "Tokens are in < w > tags. The < w > tag also contains:\n",
    "\n",
    "- the < n > tag with the the book.chapter reference\n",
    "- the < lem > tag for the lemma\n",
    "- the < pos > tag for the Part-of-Speech\n",
    "- the < msd > tag for the morpho-syntactic description\n",
    "\n",
    "In the resulting CSV file, the index indicates the index of the token at the book.chapter level."
   ]
  },
  {
   "cell_type": "code",
   "execution_count": 9,
   "id": "69d9c237",
   "metadata": {},
   "outputs": [],
   "source": [
    "import pandas as pd\n",
    "from bs4 import BeautifulSoup"
   ]
  },
  {
   "cell_type": "code",
   "execution_count": 10,
   "id": "dd34a8e9",
   "metadata": {},
   "outputs": [],
   "source": [
    "#path = \"/Users/u0154817/Documents/Data Extraction/urn_cts_latinLit_phi0978.phi001.perseus-lat2.xml\"\n",
    "#XML file downloaded from: https://github.com/lascivaroma/latin-lemmatized-texts/blob/0.1.2/lemmatized/xml/urn%3Acts%3AlatinLit%3Aphi0978.phi001.perseus-lat2.xml \n",
    "path = \"data/input/urn_cts_latinLit_phi0978.phi001.perseus-lat2.xml\""
   ]
  },
  {
   "cell_type": "code",
   "execution_count": 11,
   "id": "5483e063",
   "metadata": {},
   "outputs": [],
   "source": [
    "soup = BeautifulSoup(open(path, encoding='utf-8'), features=\"lxml\")"
   ]
  },
  {
   "cell_type": "code",
   "execution_count": 12,
   "id": "00497cbe",
   "metadata": {},
   "outputs": [],
   "source": [
    "chapters = soup.find_all(\"ab\", type=\"chapter\")"
   ]
  },
  {
   "cell_type": "code",
   "execution_count": 13,
   "id": "f71e4f4c",
   "metadata": {},
   "outputs": [],
   "source": [
    "reference_column = []\n",
    "index_column  = []\n",
    "token_column = []\n",
    "lemma_column = []\n",
    "msd_column = []\n",
    "pos_column = []"
   ]
  },
  {
   "cell_type": "code",
   "execution_count": 14,
   "id": "ab196112",
   "metadata": {},
   "outputs": [],
   "source": [
    "for chapter in chapters: ## for each book.chapter\n",
    "    \n",
    "    w_tags = chapter.find_all(\"w\") ## find all w tags\n",
    "    \n",
    "    for index, w_tag in enumerate(w_tags):\n",
    "        \n",
    "        reference = w_tag.get(\"n\") ## get the book.chapter reference\n",
    "        reference_column.append(reference)\n",
    "        \n",
    "        index_column.append(index)\n",
    "        \n",
    "        token = w_tag.get_text() ## get the token\n",
    "        token_column.append(token)\n",
    "                \n",
    "        lemma = w_tag.get(\"lemma\") ## get the lemma\n",
    "        lemma_column.append(lemma)\n",
    "        \n",
    "        msd = w_tag.get('msd') ## get the msd\n",
    "        msd_column.append(msd)\n",
    "        \n",
    "        pos = w_tag.get('pos') ## get the pos\n",
    "        pos_column.append(pos)"
   ]
  },
  {
   "cell_type": "code",
   "execution_count": 15,
   "id": "ea1fb4eb",
   "metadata": {},
   "outputs": [],
   "source": [
    "data = {'reference': reference_column, 'index': index_column, 'token': token_column, 'lemma': lemma_column, \"msd\": msd_column, 'pos' : pos_column}\n",
    "xml_Clerice_to_csv = pd.DataFrame(data)"
   ]
  },
  {
   "cell_type": "code",
   "execution_count": 16,
   "id": "2acaf2c9",
   "metadata": {},
   "outputs": [],
   "source": [
    "xml_Clerice_to_csv.to_csv('data/intermediate/xml_Clerice_to_csv.csv', index=False)"
   ]
  },
  {
   "cell_type": "code",
   "execution_count": null,
   "id": "56249c41",
   "metadata": {},
   "outputs": [],
   "source": []
  }
 ],
 "metadata": {
  "kernelspec": {
   "display_name": "Python 3 (ipykernel)",
   "language": "python",
   "name": "python3"
  },
  "language_info": {
   "codemirror_mode": {
    "name": "ipython",
    "version": 3
   },
   "file_extension": ".py",
   "mimetype": "text/x-python",
   "name": "python",
   "nbconvert_exporter": "python",
   "pygments_lexer": "ipython3",
   "version": "3.12.0"
  }
 },
 "nbformat": 4,
 "nbformat_minor": 5
}
