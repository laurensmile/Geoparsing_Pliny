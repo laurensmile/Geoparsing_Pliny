{
 "cells": [
  {
   "cell_type": "markdown",
   "id": "36a043ce",
   "metadata": {},
   "source": [
    "code conversion done"
   ]
  },
  {
   "cell_type": "code",
   "execution_count": 1,
   "id": "cfdf61d3",
   "metadata": {},
   "outputs": [],
   "source": [
    "import pandas as pd\n",
    "import re\n",
    "import csv\n",
    "from bs4 import BeautifulSoup"
   ]
  },
  {
   "cell_type": "code",
   "execution_count": 2,
   "id": "a2f969b6",
   "metadata": {},
   "outputs": [],
   "source": [
    "path = r\"data/input/NH_entire_BradyKiesling.html\""
   ]
  },
  {
   "cell_type": "code",
   "execution_count": 3,
   "id": "2e5592a0",
   "metadata": {},
   "outputs": [],
   "source": [
    "soup = BeautifulSoup(open(path, encoding='utf-8'), 'html.parser')"
   ]
  },
  {
   "cell_type": "code",
   "execution_count": 4,
   "id": "2cc04d5e",
   "metadata": {},
   "outputs": [],
   "source": [
    "html1_37 = soup.find_all('html')"
   ]
  },
  {
   "cell_type": "code",
   "execution_count": 5,
   "id": "1a1cbede",
   "metadata": {},
   "outputs": [],
   "source": [
    "reference_column = []\n",
    "tagged_entity_column = []\n",
    "topostext_id_column = []"
   ]
  },
  {
   "cell_type": "code",
   "execution_count": 6,
   "id": "50f08094",
   "metadata": {},
   "outputs": [],
   "source": [
    "for html in html1_37:\n",
    "    \n",
    "    paragraphs = html.find_all(\"p\")\n",
    "    \n",
    "    for paragraph in paragraphs: ## for each paragraph\n",
    "        \n",
    "        reference = paragraph.get(\"id\") ## get the ID of the paragraph (book, chapter, paragraph)\n",
    "        place_tags = paragraph.find_all('place') ## get all <place> tags in the paragraph\n",
    "    \n",
    "        for place_tag in place_tags:\n",
    "                \n",
    "            tagged_entity = place_tag.get_text() ## get the word content in the tag        \n",
    "            topostext_id = place_tag.get('id') ## extract the id\n",
    "            \n",
    "            reference_column.append(reference)\n",
    "            tagged_entity_column.append(tagged_entity)\n",
    "            topostext_id_column.append(topostext_id)            "
   ]
  },
  {
   "cell_type": "code",
   "execution_count": 7,
   "id": "824a2809",
   "metadata": {},
   "outputs": [],
   "source": [
    "start_pos_column = []\n",
    "\n",
    "for html in html1_37:\n",
    "    \n",
    "    paragraphs = html.find_all(\"p\")\n",
    "    \n",
    "    for paragraph in paragraphs: ## for each paragraph\n",
    "                \n",
    "        paragraph=str(paragraph) ## convert the paragraph to a string\n",
    "        \n",
    "        clean_text = re.sub('<place[^>]*>', 'µ', paragraph) ## substitute the head of the <place> tag with the special character\n",
    "        clean_text = re.sub('</place>', '', clean_text) ## remove the </place> tag\n",
    "            \n",
    "        clean_text = re.sub('<p[^>]*>', '', clean_text) ## remove the p tag\n",
    "        clean_text = re.sub('</p>', '', clean_text)\n",
    "    \n",
    "        clean_text = re.sub('<prn[^>]*>', '', clean_text) ## remove the prn tag\n",
    "        clean_text = re.sub('</prn>', '', clean_text)\n",
    "        \n",
    "        clean_text = re.sub('<person[^>]*>', '', clean_text) ## remove the person tag\n",
    "        clean_text = re.sub('</person>', '', clean_text)\n",
    "        \n",
    "        clean_text = re.sub('<demonym[^>]*>', '', clean_text) ## remove the demonym tag\n",
    "        clean_text = re.sub('</demonym>', '', clean_text)\n",
    "    \n",
    "        clean_text = re.sub('<patnym[^>]*>', '', clean_text) ## remove the patnym tag\n",
    "        clean_text = re.sub('</patnym>', '', clean_text)\n",
    "    \n",
    "        clean_text = re.sub('<ethnic[^>]*>', '', clean_text) ## remove the ethnic tag\n",
    "        clean_text = re.sub('</ethnic>', '', clean_text)\n",
    "        \n",
    "        clean_text = re.sub('<br[^>]*>', '', clean_text) ## remove the ethnic tag\n",
    "        clean_text = re.sub('</br>', '', clean_text)\n",
    "    \n",
    "        clean_text = re.sub('<a[^>]*>', '', clean_text) ## remove the a tag\n",
    "        clean_text = re.sub('</a>', '', clean_text) ## remove the </a> tag\n",
    "        \n",
    "        list_special_char_seen = 0 ## list of the number of special characters already seen\n",
    "    \n",
    "        for i, character in enumerate(clean_text): ## for each character in the paragraph\n",
    "            if character == \"µ\" : ## if the character is the special character\n",
    "\n",
    "                start_pos = int(i - list_special_char_seen)\n",
    "                list_special_char_seen += 1 ## add +1 to the sum of the special characters already seen\n",
    "            \n",
    "                start_pos_column.append(start_pos) ## append the list of start position"
   ]
  },
  {
   "cell_type": "code",
   "execution_count": 8,
   "id": "e8cf4cae",
   "metadata": {},
   "outputs": [],
   "source": [
    "data = {'reference': reference_column, 'tagged_entity': tagged_entity_column, 'start_pos': start_pos_column, 'topostext_id': topostext_id_column}\n",
    "ToposText = pd.DataFrame(data)"
   ]
  },
  {
   "cell_type": "code",
   "execution_count": 11,
   "id": "8f63b9cc",
   "metadata": {},
   "outputs": [],
   "source": [
    "ToposText.to_csv('data/intermediate/topostext_places_NH.csv', sep=',', index=False)"
   ]
  },
  {
   "cell_type": "code",
   "execution_count": 12,
   "id": "a10d03fc",
   "metadata": {},
   "outputs": [
    {
     "data": {
      "text/html": [
       "<div>\n",
       "<style scoped>\n",
       "    .dataframe tbody tr th:only-of-type {\n",
       "        vertical-align: middle;\n",
       "    }\n",
       "\n",
       "    .dataframe tbody tr th {\n",
       "        vertical-align: top;\n",
       "    }\n",
       "\n",
       "    .dataframe thead th {\n",
       "        text-align: right;\n",
       "    }\n",
       "</style>\n",
       "<table border=\"1\" class=\"dataframe\">\n",
       "  <thead>\n",
       "    <tr style=\"text-align: right;\">\n",
       "      <th></th>\n",
       "      <th>reference</th>\n",
       "      <th>tagged_entity</th>\n",
       "      <th>start_pos</th>\n",
       "      <th>topostext_id</th>\n",
       "    </tr>\n",
       "  </thead>\n",
       "  <tbody>\n",
       "    <tr>\n",
       "      <th>5043</th>\n",
       "      <td>7.56.2</td>\n",
       "      <td>Phoenicia</td>\n",
       "      <td>276</td>\n",
       "      <td>335354RPho</td>\n",
       "    </tr>\n",
       "    <tr>\n",
       "      <th>6164</th>\n",
       "      <td>15.4.1</td>\n",
       "      <td>Italy</td>\n",
       "      <td>3103</td>\n",
       "      <td>406163RIta</td>\n",
       "    </tr>\n",
       "    <tr>\n",
       "      <th>3289</th>\n",
       "      <td>5.25.1</td>\n",
       "      <td>Pamphylia</td>\n",
       "      <td>520</td>\n",
       "      <td>370320RPam</td>\n",
       "    </tr>\n",
       "    <tr>\n",
       "      <th>1832</th>\n",
       "      <td>4.12.2</td>\n",
       "      <td>Elatea</td>\n",
       "      <td>316</td>\n",
       "      <td>386228PEla</td>\n",
       "    </tr>\n",
       "    <tr>\n",
       "      <th>5979</th>\n",
       "      <td>14.3.1</td>\n",
       "      <td>Vienne</td>\n",
       "      <td>2573</td>\n",
       "      <td>455049UVie</td>\n",
       "    </tr>\n",
       "  </tbody>\n",
       "</table>\n",
       "</div>"
      ],
      "text/plain": [
       "     reference tagged_entity  start_pos topostext_id\n",
       "5043    7.56.2     Phoenicia        276   335354RPho\n",
       "6164    15.4.1         Italy       3103   406163RIta\n",
       "3289    5.25.1     Pamphylia        520   370320RPam\n",
       "1832    4.12.2        Elatea        316   386228PEla\n",
       "5979    14.3.1        Vienne       2573   455049UVie"
      ]
     },
     "execution_count": 12,
     "metadata": {},
     "output_type": "execute_result"
    }
   ],
   "source": [
    "ToposText.sample(5)"
   ]
  },
  {
   "cell_type": "code",
   "execution_count": null,
   "id": "7224a0a3",
   "metadata": {},
   "outputs": [],
   "source": []
  }
 ],
 "metadata": {
  "kernelspec": {
   "display_name": "Python 3 (ipykernel)",
   "language": "python",
   "name": "python3"
  },
  "language_info": {
   "codemirror_mode": {
    "name": "ipython",
    "version": 3
   },
   "file_extension": ".py",
   "mimetype": "text/x-python",
   "name": "python",
   "nbconvert_exporter": "python",
   "pygments_lexer": "ipython3",
   "version": "3.12.0"
  }
 },
 "nbformat": 4,
 "nbformat_minor": 5
}
